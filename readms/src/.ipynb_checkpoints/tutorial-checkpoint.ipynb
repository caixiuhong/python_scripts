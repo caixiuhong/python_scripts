{
 "cells": [
  {
   "cell_type": "code",
   "execution_count": 1,
   "metadata": {
    "collapsed": false
   },
   "outputs": [],
   "source": [
    "import sys\n",
    "#sys.path.append('../')\n",
    "from read_ms_processor import read_ms_processor"
   ]
  },
  {
   "cell_type": "code",
   "execution_count": null,
   "metadata": {
    "collapsed": false
   },
   "outputs": [],
   "source": [
    "readms=read_ms_processor()"
   ]
  },
  {
   "cell_type": "code",
   "execution_count": null,
   "metadata": {
    "collapsed": false
   },
   "outputs": [],
   "source": [
    "%%time\n",
    "ms_states1=readms.read_re_ms(file_path='../example/re_ms.dat')"
   ]
  },
  {
   "cell_type": "code",
   "execution_count": null,
   "metadata": {
    "collapsed": false
   },
   "outputs": [],
   "source": [
    "len(ms_states1)"
   ]
  },
  {
   "cell_type": "code",
   "execution_count": null,
   "metadata": {
    "collapsed": false
   },
   "outputs": [],
   "source": [
    "print(ms_states1[0].id)\n",
    "print(ms_states1[0].confseq)\n",
    "print(ms_states1[0].confidseq)\n",
    "print(ms_states1[0].crgseq)\n",
    "print(ms_states1[0].crg)\n",
    "print(ms_states1[0].E)\n",
    "print(ms_states1[0].occ)"
   ]
  },
  {
   "cell_type": "code",
   "execution_count": null,
   "metadata": {
    "collapsed": false
   },
   "outputs": [],
   "source": [
    "print(ms_states1[-1].id)\n",
    "print(ms_states1[-1].confseq)\n",
    "print(ms_states1[-1].confidseq)\n",
    "print(ms_states1[-1].crgseq)\n",
    "print(ms_states1[-1].crg)\n",
    "print(ms_states1[-1].E)\n",
    "print(ms_states1[-1].occ)"
   ]
  },
  {
   "cell_type": "code",
   "execution_count": null,
   "metadata": {
    "collapsed": false
   },
   "outputs": [],
   "source": [
    "%%time\n",
    "readms2=read_ms_processor()\n",
    "ms_states2=readms2.read_ms(file_path='../example/ms.dat')"
   ]
  },
  {
   "cell_type": "code",
   "execution_count": null,
   "metadata": {
    "collapsed": false
   },
   "outputs": [],
   "source": [
    "len(ms_states2)"
   ]
  },
  {
   "cell_type": "code",
   "execution_count": null,
   "metadata": {
    "collapsed": false
   },
   "outputs": [],
   "source": [
    "print(ms_states2[0].id)\n",
    "print(ms_states2[0].confseq)\n",
    "print(ms_states2[0].confidseq)\n",
    "print(ms_states2[0].crgseq)\n",
    "print(ms_states2[0].crg)\n",
    "print(ms_states2[0].E)\n",
    "print(ms_states2[0].occ)"
   ]
  },
  {
   "cell_type": "code",
   "execution_count": null,
   "metadata": {
    "collapsed": false
   },
   "outputs": [],
   "source": [
    "print(ms_states2[-1].id)\n",
    "print(ms_states2[-1].confseq)\n",
    "print(ms_states2[-1].confidseq)\n",
    "print(ms_states2[-1].crgseq)\n",
    "print(ms_states2[-1].crg)\n",
    "print(ms_states2[-1].E)\n",
    "print(ms_states2[-1].occ)"
   ]
  },
  {
   "cell_type": "code",
   "execution_count": 4,
   "metadata": {
    "collapsed": false
   },
   "outputs": [
    {
     "name": "stdout",
     "output_type": "stream",
     "text": [
      "There are 393 residues.\n",
      "Microstates on b'ARGA0014',b'THRA0018',b'ARGA0019',b'TRPA0020',b'SERA0023',b'THRA0024',b'ASNA0025',b'HISA0026',b'LYSA0027',b'ASPA0028',b'TYRA0033',b'THRA0036',b'SERA0044',b'THRA0048',b'TYRA0050',b'ARGA0052',b'GLUA0054',b'GLNA0061',b'CYDA0064',b'GLUA0066',b'HISA0067',b'GLUA0069',b'SERA0070',b'LYSA0074',b'GLNA0078',b'SERA0079',b'TRPA0081',b'SERA0083',b'GLUA0086',b'ASNA0087',b'CYDA0088',b'THRA0089',b'ASNA0091',b'HISA0093',b'TRPA0095',b'ASNA0096',b'THRA0100',b'ASNA0121',b'TYRA0122',b'HISA0127',b'ASPA0132',b'ARGA0137',b'ASNA0139',b'ASNA0140',b'SERA0142',b'TYRA0143',b'TRPA0144',b'TYRA0146',b'THRA0150',b'SERA0151',b'SERA0156',b'ASNA0163',b'GLNA0165',b'SERA0168',b'TRPA0172',b'TYRA0175',b'SERA0179',b'THRA0180',b'SERA0181',b'GLUA0182',b'SERA0183',b'TYRA0185',b'SERA0186',b'THRA0187',b'ASPA0188',b'HISA0195',b'SERA0197',b'SERA0200',b'SERA0201',b'ASNA0207',b'THRA0210',b'THRA0211',b'ASNA0214',b'ARGA0216',b'THRA0221',b'HISA0223',b'LYSA0224',b'TRPA0230',b'SERA0231',b'THRA0235',b'TRPA0237',b'THRA0251',b'THRA0255',b'ASPA0256',b'ARGA0257',b'ASNA0258',b'THRA0261',b'THRA0262',b'GLNA0265',b'SERA0267',b'ASPA0271',b'TYRA0275',b'GLNA0276',b'HISA0277',b'TRPA0280',b'GLUA0286',b'TYFA0288',b'SERA0299',b'HISA0300',b'THRA0304',b'LYSA0307',b'LYSA0308',b'TYRA0313',b'TYRA0318',b'TRPA0331',b'TYRA0336',b'THRA0337',b'SERA0341',b'THRA0343',b'GLNA0344',b'GLNA0345',b'SERA0346',b'TYRA0347',b'THRA0352',b'THRA0359',b'LYSA0362',b'SERA0365',b'TRPA0366',b'THRA0369',b'TRPA0371',b'SERA0374',b'GLUA0376',b'LYSA0378',b'THRA0379',b'TRPA0383',b'THRA0392',b'THRA0397',b'SERA0402',b'GLNA0403',b'SERA0405',b'ASPA0407',b'ARGA0408',b'TYRA0409',b'TYRA0410',b'HISA0411',b'ASPA0412',b'THRA0413',b'TYRA0414',b'TYRA0415',b'TYRA0422',b'SERA0425',b'TYRA0437',b'TRPA0439',b'LYSA0442',b'SERA0444',b'ARGA0446',b'GLNA0447',b'TYRA0448',b'GLUA0450',b'TRPA0451',b'LYSA0454',b'HISA0456',b'TRPA0458',b'ASNA0465',b'THRA0467',b'GLNA0471',b'HISA0472',b'ARGA0476',b'GLNA0477',b'ARGA0481',b'ARGA0482',b'TYRA0483',b'ASPA0485',b'TYRA0486',b'GLUA0488',b'THRA0492',b'TRPA0493',b'ASNA0494',b'SERA0497',b'SERA0498',b'SERA0504',b'SERA0507',b'TYRA0517',b'THRA0518',b'THRA0520',b'ARGA0521',b'ARGA0524',b'THRA0526',b'ASNA0528',b'ASNA0529',b'TYRA0530',b'TRPA0531',b'ASNA0532',b'GLUA0533',b'HISA0534',b'ASPA0536',b'THRA0537',b'GLUA0539',b'TRPA0540',b'THRA0541',b'THRA0543',b'SERA0544',b'GLUA0548',b'HISA0549',b'THRA0550',b'GLUA0552',b'GLNA0553',b'LYSA0556',b'ARGA0557',b'GLUA0558',b'ASPA0559',b'TRPA0560',b'PEHA2009',b'PEHA2012',b'HOHA2013',b'HOHA2015',b'HOHA2017',b'HOHA2018',b'HOHA2019',b'HOHA2020',b'HOHA2021',b'HOHA2023',b'HOHA2024',b'HOHA2025',b'HOHA2028',b'HOHA2032',b'HOHA2037',b'HOHA2045',b'HOHA2049',b'HOHA2050',b'HOHA2051',b'HOHA2052',b'HOHA2053',b'HOHA2054',b'HOHA2055',b'HOHA2056',b'HOHA2057',b'HOHA2058',b'HOHA2059',b'HOHA2060',b'HOHA2061',b'HOHA2062',b'HOHA2063',b'HOHA2065',b'HOHA2067',b'HOHA2070',b'HOHA2071',b'HOHA2073',b'HOHA2081',b'HOHA2083',b'HOHA2084',b'HOHA2096',b'HOHA2099',b'HOHA2101',b'HOHA2103',b'HOHA2104',b'HOHA2107',b'HOHA2108',b'HOHA2109',b'GLUB0031',b'ARGB0035',b'GLNB0037',b'THRB0041',b'GLNB0044',b'SERB0046',b'SERB0048',b'THRB0052',b'GLNB0053',b'HISB0055',b'TRPB0056',b'ASPB0058',b'THRB0069',b'THRB0073',b'TYRB0078',b'TRPB0081',b'ARGB0082',b'HISB0084',b'GLUB0085',b'LYSB0086',b'ARGB0087',b'ASNB0088',b'LYSB0089',b'ARGB0093',b'THRB0095',b'HISB0096',b'ASNB0097',b'SERB0098',b'GLUB0101',b'TRPB0104',b'THRB0105',b'SERB0119',b'ASNB0125',b'GLNB0126',b'GLNB0127',b'GLUB0128',b'GLUB0131',b'ASPB0133',b'THRB0135',b'LYSB0137',b'THRB0139',b'TYRB0141',b'GLNB0142',b'TRPB0143',b'TYRB0144',b'TRPB0145',b'TYRB0147',b'GLUB0148',b'TYRB0149',b'ASPB0151',b'GLUB0152',b'GLUB0153',b'SERB0155',b'GLUB0157',b'SERB0158',b'TYRB0159',b'SERB0163',b'THRB0166',b'ASPB0169',b'ASNB0170',b'ARGB0171',b'SERB0173',b'GLUB0175',b'GLUB0177',b'GLNB0178',b'GLNB0179',b'GLUB0182',b'TYRB0185',b'SERB0186',b'ARGB0187',b'ASPB0188',b'GLUB0189',b'THRB0194',b'ASPB0195',b'THRB0196',b'ASNB0203',b'LYSB0204',b'THRB0205',b'GLNB0209',b'THRB0211',b'ASPB0214',b'SERB0218',b'TRPB0219',b'THRB0220',b'LYSB0227',b'GLNB0228',b'ASPB0229',b'ARGB0234',b'GLNB0237',b'TRPB0239',b'ARGB0241',b'GLUB0243',b'ARGB0244',b'GLUB0245',b'GLNB0251',b'SERB0253',b'GLUB0254',b'SERB0259',b'TYRB0262',b'THRB0266',b'LYSB0268',b'SERB0271',b'GLUB0272',b'GLUB0273',b'TYRB0275',b'TRPB0278',b'GLUB0280',b'GLNB0281',b'ARGB0283',b'THRB0286',b'TYRB0287',b'GLUB0288',b'HOHB1007',b'HOHB1008',b'HOHB1009',b'HOHB1010',b'HOHB1011',b'HOHB1012',b'HOHB1013',b'HOHB1014',b'HOHB1015',b'HOHB1019',b'HOHB1023',b'HOHB1026',b'HOHB1027',b'HOHB1029',b'HOHB1032',b'HOHB1038',b'HOHB1043',b'HOHB1045',b'HOHB1047',b'HOHB1059',b'HEA_1001',b'PAA_1002',b'PDD_1003',b'FAL_1004',b'HE3_3001',b'PAA_3002',b'PDD_3003',b'FAL_3004',b'CUA_9001',b'CUB_9003',b'_MG_9005',b'_CA_9007',\n"
     ]
    },
    {
     "ename": "KeyboardInterrupt",
     "evalue": "",
     "output_type": "error",
     "traceback": [
      "\u001b[0;31m---------------------------------------------------------------------------\u001b[0m",
      "\u001b[0;31mKeyboardInterrupt\u001b[0m                         Traceback (most recent call last)",
      "\u001b[0;32m<ipython-input-4-9b14062b5eef>\u001b[0m in \u001b[0;36m<module>\u001b[0;34m()\u001b[0m\n\u001b[0;32m----> 1\u001b[0;31m \u001b[0mget_ipython\u001b[0m\u001b[0;34m(\u001b[0m\u001b[0;34m)\u001b[0m\u001b[0;34m.\u001b[0m\u001b[0mrun_cell_magic\u001b[0m\u001b[0;34m(\u001b[0m\u001b[0;34m'time'\u001b[0m\u001b[0;34m,\u001b[0m \u001b[0;34m''\u001b[0m\u001b[0;34m,\u001b[0m \u001b[0;34m\"readms3=read_ms_processor()\\nms_states3=readms3.read_old_ms(file_path='../example/old_ms.dat')\"\u001b[0m\u001b[0;34m)\u001b[0m\u001b[0;34m\u001b[0m\u001b[0m\n\u001b[0m",
      "\u001b[0;32m/Users/caixiuhong/anaconda3/lib/python3.6/site-packages/IPython/core/interactiveshell.py\u001b[0m in \u001b[0;36mrun_cell_magic\u001b[0;34m(self, magic_name, line, cell)\u001b[0m\n\u001b[1;32m   2113\u001b[0m             \u001b[0mmagic_arg_s\u001b[0m \u001b[0;34m=\u001b[0m \u001b[0mself\u001b[0m\u001b[0;34m.\u001b[0m\u001b[0mvar_expand\u001b[0m\u001b[0;34m(\u001b[0m\u001b[0mline\u001b[0m\u001b[0;34m,\u001b[0m \u001b[0mstack_depth\u001b[0m\u001b[0;34m)\u001b[0m\u001b[0;34m\u001b[0m\u001b[0m\n\u001b[1;32m   2114\u001b[0m             \u001b[0;32mwith\u001b[0m \u001b[0mself\u001b[0m\u001b[0;34m.\u001b[0m\u001b[0mbuiltin_trap\u001b[0m\u001b[0;34m:\u001b[0m\u001b[0;34m\u001b[0m\u001b[0m\n\u001b[0;32m-> 2115\u001b[0;31m                 \u001b[0mresult\u001b[0m \u001b[0;34m=\u001b[0m \u001b[0mfn\u001b[0m\u001b[0;34m(\u001b[0m\u001b[0mmagic_arg_s\u001b[0m\u001b[0;34m,\u001b[0m \u001b[0mcell\u001b[0m\u001b[0;34m)\u001b[0m\u001b[0;34m\u001b[0m\u001b[0m\n\u001b[0m\u001b[1;32m   2116\u001b[0m             \u001b[0;32mreturn\u001b[0m \u001b[0mresult\u001b[0m\u001b[0;34m\u001b[0m\u001b[0m\n\u001b[1;32m   2117\u001b[0m \u001b[0;34m\u001b[0m\u001b[0m\n",
      "\u001b[0;32m<decorator-gen-59>\u001b[0m in \u001b[0;36mtime\u001b[0;34m(self, line, cell, local_ns)\u001b[0m\n",
      "\u001b[0;32m/Users/caixiuhong/anaconda3/lib/python3.6/site-packages/IPython/core/magic.py\u001b[0m in \u001b[0;36m<lambda>\u001b[0;34m(f, *a, **k)\u001b[0m\n\u001b[1;32m    186\u001b[0m     \u001b[0;31m# but it's overkill for just that one bit of state.\u001b[0m\u001b[0;34m\u001b[0m\u001b[0;34m\u001b[0m\u001b[0m\n\u001b[1;32m    187\u001b[0m     \u001b[0;32mdef\u001b[0m \u001b[0mmagic_deco\u001b[0m\u001b[0;34m(\u001b[0m\u001b[0marg\u001b[0m\u001b[0;34m)\u001b[0m\u001b[0;34m:\u001b[0m\u001b[0;34m\u001b[0m\u001b[0m\n\u001b[0;32m--> 188\u001b[0;31m         \u001b[0mcall\u001b[0m \u001b[0;34m=\u001b[0m \u001b[0;32mlambda\u001b[0m \u001b[0mf\u001b[0m\u001b[0;34m,\u001b[0m \u001b[0;34m*\u001b[0m\u001b[0ma\u001b[0m\u001b[0;34m,\u001b[0m \u001b[0;34m**\u001b[0m\u001b[0mk\u001b[0m\u001b[0;34m:\u001b[0m \u001b[0mf\u001b[0m\u001b[0;34m(\u001b[0m\u001b[0;34m*\u001b[0m\u001b[0ma\u001b[0m\u001b[0;34m,\u001b[0m \u001b[0;34m**\u001b[0m\u001b[0mk\u001b[0m\u001b[0;34m)\u001b[0m\u001b[0;34m\u001b[0m\u001b[0m\n\u001b[0m\u001b[1;32m    189\u001b[0m \u001b[0;34m\u001b[0m\u001b[0m\n\u001b[1;32m    190\u001b[0m         \u001b[0;32mif\u001b[0m \u001b[0mcallable\u001b[0m\u001b[0;34m(\u001b[0m\u001b[0marg\u001b[0m\u001b[0;34m)\u001b[0m\u001b[0;34m:\u001b[0m\u001b[0;34m\u001b[0m\u001b[0m\n",
      "\u001b[0;32m/Users/caixiuhong/anaconda3/lib/python3.6/site-packages/IPython/core/magics/execution.py\u001b[0m in \u001b[0;36mtime\u001b[0;34m(self, line, cell, local_ns)\u001b[0m\n\u001b[1;32m   1178\u001b[0m         \u001b[0;32melse\u001b[0m\u001b[0;34m:\u001b[0m\u001b[0;34m\u001b[0m\u001b[0m\n\u001b[1;32m   1179\u001b[0m             \u001b[0mst\u001b[0m \u001b[0;34m=\u001b[0m \u001b[0mclock2\u001b[0m\u001b[0;34m(\u001b[0m\u001b[0;34m)\u001b[0m\u001b[0;34m\u001b[0m\u001b[0m\n\u001b[0;32m-> 1180\u001b[0;31m             \u001b[0mexec\u001b[0m\u001b[0;34m(\u001b[0m\u001b[0mcode\u001b[0m\u001b[0;34m,\u001b[0m \u001b[0mglob\u001b[0m\u001b[0;34m,\u001b[0m \u001b[0mlocal_ns\u001b[0m\u001b[0;34m)\u001b[0m\u001b[0;34m\u001b[0m\u001b[0m\n\u001b[0m\u001b[1;32m   1181\u001b[0m             \u001b[0mend\u001b[0m \u001b[0;34m=\u001b[0m \u001b[0mclock2\u001b[0m\u001b[0;34m(\u001b[0m\u001b[0;34m)\u001b[0m\u001b[0;34m\u001b[0m\u001b[0m\n\u001b[1;32m   1182\u001b[0m             \u001b[0mout\u001b[0m \u001b[0;34m=\u001b[0m \u001b[0;32mNone\u001b[0m\u001b[0;34m\u001b[0m\u001b[0m\n",
      "\u001b[0;32m<timed exec>\u001b[0m in \u001b[0;36m<module>\u001b[0;34m()\u001b[0m\n",
      "\u001b[0;32m/Users/caixiuhong/Downloads/readms/src/read_ms_processor.py\u001b[0m in \u001b[0;36mread_old_ms\u001b[0;34m(self, file_path)\u001b[0m\n\u001b[1;32m    212\u001b[0m                                 \u001b[0;31m#read the rest of residue conformer id of the microstate\u001b[0m\u001b[0;34m\u001b[0m\u001b[0;34m\u001b[0m\u001b[0m\n\u001b[1;32m    213\u001b[0m                                 \u001b[0;32mfor\u001b[0m \u001b[0mi\u001b[0m \u001b[0;32min\u001b[0m \u001b[0mrange\u001b[0m\u001b[0;34m(\u001b[0m\u001b[0mn_spe\u001b[0m\u001b[0;34m-\u001b[0m\u001b[0;36m1\u001b[0m\u001b[0;34m)\u001b[0m\u001b[0;34m:\u001b[0m\u001b[0;34m\u001b[0m\u001b[0m\n\u001b[0;32m--> 214\u001b[0;31m                                         \u001b[0mbyte\u001b[0m\u001b[0;34m=\u001b[0m\u001b[0mf\u001b[0m\u001b[0;34m.\u001b[0m\u001b[0mread\u001b[0m\u001b[0;34m(\u001b[0m\u001b[0;36m2\u001b[0m\u001b[0;34m)\u001b[0m\u001b[0;34m\u001b[0m\u001b[0m\n\u001b[0m\u001b[1;32m    215\u001b[0m                                         \u001b[0mres_confid\u001b[0m \u001b[0;34m=\u001b[0m \u001b[0mstruct\u001b[0m\u001b[0;34m.\u001b[0m\u001b[0munpack\u001b[0m\u001b[0;34m(\u001b[0m\u001b[0;34m'1H'\u001b[0m\u001b[0;34m,\u001b[0m \u001b[0mbyte\u001b[0m\u001b[0;34m)\u001b[0m\u001b[0;34m[\u001b[0m\u001b[0;36m0\u001b[0m\u001b[0;34m]\u001b[0m\u001b[0;34m\u001b[0m\u001b[0m\n\u001b[1;32m    216\u001b[0m                                         \u001b[0mconfid_list\u001b[0m\u001b[0;34m.\u001b[0m\u001b[0mappend\u001b[0m\u001b[0;34m(\u001b[0m\u001b[0mres_confid\u001b[0m\u001b[0;34m)\u001b[0m\u001b[0;34m\u001b[0m\u001b[0m\n",
      "\u001b[0;31mKeyboardInterrupt\u001b[0m: "
     ]
    }
   ],
   "source": [
    "%%time\n",
    "readms3=read_ms_processor()\n",
    "ms_states3=readms3.read_old_ms(file_path='../example/old_ms.dat')"
   ]
  },
  {
   "cell_type": "code",
   "execution_count": null,
   "metadata": {
    "collapsed": true
   },
   "outputs": [],
   "source": []
  }
 ],
 "metadata": {
  "kernelspec": {
   "display_name": "Python 3",
   "language": "python",
   "name": "python3"
  },
  "language_info": {
   "codemirror_mode": {
    "name": "ipython",
    "version": 3
   },
   "file_extension": ".py",
   "mimetype": "text/x-python",
   "name": "python",
   "nbconvert_exporter": "python",
   "pygments_lexer": "ipython3",
   "version": "3.6.0"
  }
 },
 "nbformat": 4,
 "nbformat_minor": 2
}
