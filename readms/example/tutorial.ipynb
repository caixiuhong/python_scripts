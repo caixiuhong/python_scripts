{
 "cells": [
  {
   "cell_type": "code",
   "execution_count": 1,
   "metadata": {
    "collapsed": false
   },
   "outputs": [],
   "source": [
    "import sys\n",
    "sys.path.append('../src')\n",
    "from read_ms_processor import read_ms_processor"
   ]
  },
  {
   "cell_type": "code",
   "execution_count": 2,
   "metadata": {
    "collapsed": false
   },
   "outputs": [],
   "source": [
    "readms=read_ms_processor()"
   ]
  },
  {
   "cell_type": "code",
   "execution_count": 3,
   "metadata": {
    "collapsed": false
   },
   "outputs": [
    {
     "name": "stdout",
     "output_type": "stream",
     "text": [
      "re_ms.dat is obtained from enumeration MCCE.\n",
      "CPU times: user 18.9 s, sys: 3.4 s, total: 22.3 s\n",
      "Wall time: 24.5 s\n"
     ]
    }
   ],
   "source": [
    "%%time\n",
    "#read readable ms.dat: re_ms.dat\n",
    "ms_states1=readms.read_re_ms(file_path='../example/re_ms.dat')"
   ]
  },
  {
   "cell_type": "code",
   "execution_count": 4,
   "metadata": {
    "collapsed": false
   },
   "outputs": [
    {
     "data": {
      "text/plain": [
       "653400"
      ]
     },
     "execution_count": 4,
     "metadata": {},
     "output_type": "execute_result"
    }
   ],
   "source": [
    "len(ms_states1)"
   ]
  },
  {
   "cell_type": "code",
   "execution_count": 5,
   "metadata": {
    "collapsed": false
   },
   "outputs": [
    {
     "name": "stdout",
     "output_type": "stream",
     "text": [
      "0\n",
      "['448', '597', '611', '1204', '1401', '1412']\n",
      "['ASP01A0287_001', 'ASP01A0372_001', 'HIS01A0376_001', 'GLU01B0126_001', 'PAA01K9301_001', 'PDD01K9302_001']\n",
      "000000\n",
      "0.0\n",
      "243.692108\n",
      "0.0\n"
     ]
    }
   ],
   "source": [
    "print(ms_states1[0].id)\n",
    "print(ms_states1[0].confseq)\n",
    "print(ms_states1[0].confidseq)\n",
    "print(ms_states1[0].crgseq)\n",
    "print(ms_states1[0].crg)\n",
    "print(ms_states1[0].E)\n",
    "print(ms_states1[0].occ)"
   ]
  },
  {
   "cell_type": "code",
   "execution_count": 6,
   "metadata": {
    "collapsed": false
   },
   "outputs": [
    {
     "name": "stdout",
     "output_type": "stream",
     "text": [
      "653399\n",
      "['457', '605', '615', '1215', '1411', '1422']\n",
      "['ASP-1A0287_010', 'ASP-1A0372_009', 'HIS+1A0376_005', 'GLU-1B0126_012', 'PAA-1K9301_011', 'PDD-1K9302_011']\n",
      "-1-11-1-1-1\n",
      "-4.0\n",
      "103.482834\n",
      "0.0\n"
     ]
    }
   ],
   "source": [
    "print(ms_states1[-1].id)\n",
    "print(ms_states1[-1].confseq)\n",
    "print(ms_states1[-1].confidseq)\n",
    "print(ms_states1[-1].crgseq)\n",
    "print(ms_states1[-1].crg)\n",
    "print(ms_states1[-1].E)\n",
    "print(ms_states1[-1].occ)"
   ]
  },
  {
   "cell_type": "code",
   "execution_count": 7,
   "metadata": {
    "collapsed": false
   },
   "outputs": [
    {
     "name": "stdout",
     "output_type": "stream",
     "text": [
      "WARNING: adding to non empty conformer list.\n",
      "There are 6 residues.\n",
      "Microstates on b'ASPA0287',b'ASPA0372',b'HISA0376',b'GLUB0126',b'PAAK9301',b'PDDK9302',\n",
      "Microstate is obtained from b'ENUMERATE'.\n",
      "CPU times: user 20.1 s, sys: 5.14 s, total: 25.2 s\n",
      "Wall time: 28.3 s\n"
     ]
    }
   ],
   "source": [
    "%%time\n",
    "#read ms.dat: new verison /home/cai/mcce3.5_enum_ms\n",
    "readms2=read_ms_processor()\n",
    "ms_states2=readms2.read_ms(file_path='../example/ms.dat')"
   ]
  },
  {
   "cell_type": "code",
   "execution_count": 8,
   "metadata": {
    "collapsed": false
   },
   "outputs": [
    {
     "data": {
      "text/plain": [
       "653400"
      ]
     },
     "execution_count": 8,
     "metadata": {},
     "output_type": "execute_result"
    }
   ],
   "source": [
    "len(ms_states2)"
   ]
  },
  {
   "cell_type": "code",
   "execution_count": 9,
   "metadata": {
    "collapsed": false
   },
   "outputs": [
    {
     "name": "stdout",
     "output_type": "stream",
     "text": [
      "0\n",
      "[448, 597, 611, 1204, 1401, 1412]\n",
      "['ASP01A0287_001', 'ASP01A0372_001', 'HIS01A0376_001', 'GLU01B0126_001', 'PAA01K9301_001', 'PDD01K9302_001']\n",
      "000000\n",
      "0.0\n",
      "243.69210815429688\n",
      "0.0\n"
     ]
    }
   ],
   "source": [
    "print(ms_states2[0].id)\n",
    "print(ms_states2[0].confseq)\n",
    "print(ms_states2[0].confidseq)\n",
    "print(ms_states2[0].crgseq)\n",
    "print(ms_states2[0].crg)\n",
    "print(ms_states2[0].E)\n",
    "print(ms_states2[0].occ)"
   ]
  },
  {
   "cell_type": "code",
   "execution_count": 10,
   "metadata": {
    "collapsed": false
   },
   "outputs": [
    {
     "name": "stdout",
     "output_type": "stream",
     "text": [
      "653399\n",
      "[457, 605, 615, 1215, 1411, 1422]\n",
      "['ASP-1A0287_010', 'ASP-1A0372_009', 'HIS+1A0376_005', 'GLU-1B0126_012', 'PAA-1K9301_011', 'PDD-1K9302_011']\n",
      "-1-11-1-1-1\n",
      "-4.0\n",
      "103.48283386230469\n",
      "3.6363447356938254e-16\n"
     ]
    }
   ],
   "source": [
    "print(ms_states2[-1].id)\n",
    "print(ms_states2[-1].confseq)\n",
    "print(ms_states2[-1].confidseq)\n",
    "print(ms_states2[-1].crgseq)\n",
    "print(ms_states2[-1].crg)\n",
    "print(ms_states2[-1].E)\n",
    "print(ms_states2[-1].occ)"
   ]
  },
  {
   "cell_type": "code",
   "execution_count": null,
   "metadata": {
    "collapsed": false
   },
   "outputs": [],
   "source": [
    "%%time\n",
    "#read old version ms.dat: /home/cai/mcce3.5\n",
    "readms3=read_ms_processor()\n",
    "ms_states3=readms3.read_old_ms(file_path='../example/old_ms.dat')"
   ]
  },
  {
   "cell_type": "code",
   "execution_count": null,
   "metadata": {
    "collapsed": true
   },
   "outputs": [],
   "source": []
  }
 ],
 "metadata": {
  "kernelspec": {
   "display_name": "Python 3",
   "language": "python",
   "name": "python3"
  },
  "language_info": {
   "codemirror_mode": {
    "name": "ipython",
    "version": 3
   },
   "file_extension": ".py",
   "mimetype": "text/x-python",
   "name": "python",
   "nbconvert_exporter": "python",
   "pygments_lexer": "ipython3",
   "version": "3.6.0"
  }
 },
 "nbformat": 4,
 "nbformat_minor": 2
}
